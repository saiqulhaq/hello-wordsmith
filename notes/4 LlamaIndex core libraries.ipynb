{
 "cells": [
  {
   "cell_type": "markdown",
   "metadata": {},
   "source": [
    "For someone just getting started with Retrieval Augmented Generation (RAG) using LlamaIndex, the key core classes to focus on are:\n",
    "\n",
    "1. **Document Loaders**: These classes are responsible for loading data from various sources into the pipeline. Examples include `PDFReader` for PDFs and other loaders for different data formats[6][7].\n",
    "\n",
    "2. **Node Parsers**: These classes parse documents into smaller, manageable chunks called nodes. The `SimpleNodeParser` is a common example used to break down documents into nodes[2][3].\n",
    "\n",
    "3. **VectorStoreIndex**: This class is used to create an index of vector embeddings from the parsed nodes. It stores these vectors in a vector store, allowing for efficient retrieval of relevant nodes during querying[3][6].\n",
    "\n",
    "4. **Retrievers**: These classes define how to retrieve relevant context from the index when given a query. The `VectorDBRetriever` is an example that retrieves nodes based on their vector similarity to the query[4][5].\n",
    "\n",
    "5. **Query Engines**: These classes handle the querying process, combining the retriever and the LLM to generate responses. The `RetrieverQueryEngine` is a key class that takes a retriever and synthesizes a response based on the retrieved nodes[4][6].\n",
    "\n",
    "6. **ServiceContext**: This utility container bundles commonly used resources during the indexing and querying processes, such as the LLM and embedding models[6].\n",
    "\n",
    "By focusing on these core classes, beginners can effectively build and understand a basic RAG pipeline using LlamaIndex.\n",
    "\n",
    "Citations:  \n",
    "[1] https://christophergs.com/blog/ai-engineering-retrieval-augmented-generation-rag-llama-index  \n",
    "[2] https://cookbook.openai.com/examples/evaluation/evaluate_rag_with_llamaindex  \n",
    "[3] https://medium.aiplanet.com/advanced-rag-using-llama-index-e06b00dc0ed8?gi=a9d1f4470c17  \n",
    "[4] https://docs.llamaindex.ai/en/stable/examples/low_level/oss_ingestion_retrieval/  \n",
    "[5] https://docs.llamaindex.ai/en/stable/getting_started/concepts/  \n",
    "[6] https://deci.ai/blog/rag-with-llamaindex-and-decilm-a-step-by-step-tutorial/  \n",
    "[7] https://docs.llamaindex.ai/en/stable/optimizing/production_rag/"
   ]
  }
 ],
 "metadata": {
  "language_info": {
   "name": "python"
  }
 },
 "nbformat": 4,
 "nbformat_minor": 2
}
