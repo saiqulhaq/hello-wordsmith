{
 "cells": [
  {
   "cell_type": "markdown",
   "metadata": {},
   "source": [
    "Pydantic is the most widely used data validation library for Python.\n",
    "Following code is an example from Pydantic website"
   ]
  },
  {
   "cell_type": "code",
   "execution_count": 1,
   "metadata": {},
   "outputs": [
    {
     "name": "stdout",
     "output_type": "stream",
     "text": [
      "datetime.datetime(2020, 1, 2, 3, 4, 5, tzinfo=TzInfo(UTC))\n",
      "(10, 20)\n"
     ]
    }
   ],
   "source": [
    "from datetime import datetime\n",
    "from typing import Tuple\n",
    "\n",
    "from pydantic import BaseModel\n",
    "\n",
    "class Delivery(BaseModel):\n",
    "    timestamp: datetime\n",
    "    dimensions: Tuple[int, int]\n",
    "\n",
    "\n",
    "m = Delivery(timestamp='2020-01-02T03:04:05Z', dimensions=['10', '20'])\n",
    "print(repr(m.timestamp))\n",
    "#> datetime.datetime(2020, 1, 2, 3, 4, 5, tzinfo=TzInfo(UTC))\n",
    "print(m.dimensions)\n",
    "#> (10, 20)"
   ]
  },
  {
   "cell_type": "markdown",
   "metadata": {},
   "source": [
    "The `Tuple` library is a part of the `typing` module in Python. It provides a way to define and work with tuples, which are ordered collections of elements of different types. Tuples are immutable, meaning their values cannot be changed once they are created.\n",
    "\n",
    "In Python, tuples are defined using parentheses `()`, and the elements are separated by commas. The `Tuple` library allows you to specify the types of the elements within the tuple.\n",
    "\n",
    "Here's an example of how to use the `Tuple` library:\n",
    "\n",
    "```python\n",
    "from typing import Tuple\n",
    "\n",
    "# Define a tuple with two elements: an integer and a string\n",
    "my_tuple: Tuple[int, str] = (10, 'Hello')\n",
    "\n",
    "# Access the elements of the tuple\n",
    "print(my_tuple[0])  # Output: 10\n",
    "print(my_tuple[1])  # Output: Hello\n",
    "```\n",
    "\n",
    "In the example above, we import the `Tuple` library from the `typing` module and use it to define a tuple called `my_tuple`. The tuple has two elements: an integer and a string. We can access the elements of the tuple using indexing.\n",
    "\n",
    "The `Tuple` library is useful when you want to specify the types of elements in a tuple, especially when working with functions or methods that expect specific types of input or return values. It helps improve code readability and provides type hints for static type checkers and IDEs."
   ]
  },
  {
   "cell_type": "code",
   "execution_count": 3,
   "metadata": {},
   "outputs": [
    {
     "ename": "ValidationError",
     "evalue": "1 validation error for Delivery\ndimensions.1\n  Input should be a valid integer, unable to parse string as an integer [type=int_parsing, input_value='aa', input_type=str]\n    For further information visit https://errors.pydantic.dev/2.7/v/int_parsing",
     "output_type": "error",
     "traceback": [
      "\u001b[0;31m---------------------------------------------------------------------------\u001b[0m",
      "\u001b[0;31mValidationError\u001b[0m                           Traceback (most recent call last)",
      "Cell \u001b[0;32mIn[3], line 7\u001b[0m\n\u001b[1;32m      3\u001b[0m     timestamp: datetime\n\u001b[1;32m      4\u001b[0m     dimensions: Tuple[\u001b[38;5;28mint\u001b[39m, \u001b[38;5;28mint\u001b[39m]\n\u001b[0;32m----> 7\u001b[0m m \u001b[38;5;241m=\u001b[39m \u001b[43mDelivery\u001b[49m\u001b[43m(\u001b[49m\u001b[43mtimestamp\u001b[49m\u001b[38;5;241;43m=\u001b[39;49m\u001b[38;5;124;43m'\u001b[39;49m\u001b[38;5;124;43m2020-01-02T03:04:05Z\u001b[39;49m\u001b[38;5;124;43m'\u001b[39;49m\u001b[43m,\u001b[49m\u001b[43m \u001b[49m\u001b[43mdimensions\u001b[49m\u001b[38;5;241;43m=\u001b[39;49m\u001b[43m[\u001b[49m\u001b[38;5;124;43m'\u001b[39;49m\u001b[38;5;124;43m10\u001b[39;49m\u001b[38;5;124;43m'\u001b[39;49m\u001b[43m,\u001b[49m\u001b[43m \u001b[49m\u001b[38;5;124;43m'\u001b[39;49m\u001b[38;5;124;43maa\u001b[39;49m\u001b[38;5;124;43m'\u001b[39;49m\u001b[43m]\u001b[49m\u001b[43m)\u001b[49m\n\u001b[1;32m      8\u001b[0m \u001b[38;5;28mprint\u001b[39m(\u001b[38;5;28mrepr\u001b[39m(m\u001b[38;5;241m.\u001b[39mtimestamp))\n",
      "File \u001b[0;32m~/miniconda3/envs/hello-wordsmith-env/lib/python3.9/site-packages/pydantic/main.py:176\u001b[0m, in \u001b[0;36mBaseModel.__init__\u001b[0;34m(self, **data)\u001b[0m\n\u001b[1;32m    174\u001b[0m \u001b[38;5;66;03m# `__tracebackhide__` tells pytest and some other tools to omit this function from tracebacks\u001b[39;00m\n\u001b[1;32m    175\u001b[0m __tracebackhide__ \u001b[38;5;241m=\u001b[39m \u001b[38;5;28;01mTrue\u001b[39;00m\n\u001b[0;32m--> 176\u001b[0m \u001b[38;5;28;43mself\u001b[39;49m\u001b[38;5;241;43m.\u001b[39;49m\u001b[43m__pydantic_validator__\u001b[49m\u001b[38;5;241;43m.\u001b[39;49m\u001b[43mvalidate_python\u001b[49m\u001b[43m(\u001b[49m\u001b[43mdata\u001b[49m\u001b[43m,\u001b[49m\u001b[43m \u001b[49m\u001b[43mself_instance\u001b[49m\u001b[38;5;241;43m=\u001b[39;49m\u001b[38;5;28;43mself\u001b[39;49m\u001b[43m)\u001b[49m\n",
      "\u001b[0;31mValidationError\u001b[0m: 1 validation error for Delivery\ndimensions.1\n  Input should be a valid integer, unable to parse string as an integer [type=int_parsing, input_value='aa', input_type=str]\n    For further information visit https://errors.pydantic.dev/2.7/v/int_parsing"
     ]
    }
   ],
   "source": [
    "# following is example code when we use wrong type for dimensions\n",
    "class Delivery(BaseModel):\n",
    "    timestamp: datetime\n",
    "    dimensions: Tuple[int, int]\n",
    "\n",
    "\n",
    "m = Delivery(timestamp='2020-01-02T03:04:05Z', dimensions=['10', 'aa'])\n",
    "print(repr(m.timestamp))"
   ]
  },
  {
   "cell_type": "markdown",
   "metadata": {},
   "source": [
    "The repr method in Python is a special method used to obtain the string representation of an object in a way that is more focused on being unambiguous. It is often used for debugging and development purposes, as it aims to give a representation that can be used to recreate the object, though this is not guaranteed for all objects. When you call repr(object), Python looks for a __repr__ method in the object's class definition and uses it to generate the string representation. If no custom __repr__ is defined, Python uses the default implementation that provides basic information like the object's class name and memory address.\n",
    "\n",
    "In the context of the provided code snippet, repr(m.timestamp) is used to get a string representation of the datetime object m.timestamp that is unambiguous and possibly could be used to recreate the datetime object. The output shown in the comment indicates that the datetime object represents a specific point in time with timezone information included, and the repr function returns a string that closely resembles how you would instantiate a similar datetime object in code."
   ]
  }
 ],
 "metadata": {
  "kernelspec": {
   "display_name": "wordsmith",
   "language": "python",
   "name": "wordsmith"
  },
  "language_info": {
   "codemirror_mode": {
    "name": "ipython",
    "version": 3
   },
   "file_extension": ".py",
   "mimetype": "text/x-python",
   "name": "python",
   "nbconvert_exporter": "python",
   "pygments_lexer": "ipython3",
   "version": "3.9.19"
  }
 },
 "nbformat": 4,
 "nbformat_minor": 2
}
