{
 "cells": [
  {
   "cell_type": "markdown",
   "metadata": {},
   "source": [
    "The `llama_index.core.query_pipeline` module in the LlamaIndex library provides a declarative API for constructing and managing query pipelines. This module allows users to chain together different components to create workflows for processing queries\n",
    "\n",
    "### QueryPipeline Class\n",
    "\n",
    "The `QueryPipeline` class is a central abstraction in the LlamaIndex library that allows users to orchestrate various components in a query processing workflow. Here are some key points about the `QueryPipeline` class:\n",
    "\n",
    "- **Purpose**: The `QueryPipeline` class is designed to manage the flow of data through different components, such as retrievers, summarizers, and language models, in a sequential or directed acyclic graph (DAG) manner.\n",
    "- **Components**: Users can add various components to the pipeline, such as input handlers, retrievers, and summarizers, and define how data flows between these components.\n",
    "- **Links**: The class allows users to define links between components, specifying how the output of one component should be used as the input for another.\n",
    "- **Execution**: The pipeline can be executed with a given input, and it will process the input through the defined components and links to produce a final output.\n",
    "\n",
    "### InputComponent Class\n",
    "\n",
    "The `InputComponent` class is a specific type of component used in the `QueryPipeline` to handle the initial input query. Here are some key points about the `InputComponent` class:\n",
    "\n",
    "- **Purpose**: The `InputComponent` serves as the entry point for the query pipeline, taking the raw input query and preparing it for further processing by other components in the pipeline.\n",
    "- **Validation**: The class includes methods for validating the inputs and outputs of the component to ensure that they meet the expected format and requirements.\n",
    "- **Integration**: The `InputComponent` can be linked to other components in the pipeline, such as retrievers and summarizers, to pass the processed input query to them.\n",
    "\n",
    "### Example Usage\n",
    "\n",
    "Here is an example of how the `QueryPipeline` and `InputComponent` classes are used in a query pipeline setup:\n",
    "\n",
    "```python\n",
    "from llama_index.core.query_pipeline import QueryPipeline, InputComponent\n",
    "from llama_index.core.response_synthesizers import TreeSummarize\n",
    "from llama_index.llms.openai import OpenAI\n",
    "from llama_index.core import VectorStoreIndex\n",
    "\n",
    "# Define the components\n",
    "input_component = InputComponent()\n",
    "retriever = VectorStoreIndex.as_retriever(similarity_top_k=20)\n",
    "summarizer = TreeSummarize(llm=OpenAI(model=\"gpt-4\"), streaming=True)\n",
    "\n",
    "# Create the query pipeline\n",
    "query_pipeline = QueryPipeline()\n",
    "\n",
    "# Add components to the pipeline\n",
    "query_pipeline.add_modules({\n",
    "    \"input\": input_component,\n",
    "    \"retriever\": retriever,\n",
    "    \"summarizer\": summarizer,\n",
    "})\n",
    "\n",
    "# Define links between components\n",
    "query_pipeline.add_link(\"input\", \"retriever\")\n",
    "query_pipeline.add_link(\"input\", \"summarizer\", dest_key=\"query_str\")\n",
    "query_pipeline.add_link(\"retriever\", \"summarizer\", dest_key=\"nodes\")\n",
    "\n",
    "# Run the pipeline with an input query\n",
    "output = query_pipeline.run(input=\"What is the capital of France?\")\n",
    "print(output)\n",
    "```\n",
    "\n",
    "### Summary\n",
    "\n",
    "- **QueryPipeline**: Manages the flow of data through various components in a query processing workflow, allowing for sequential or DAG-based execution.\n",
    "- **InputComponent**: Handles the initial input query, preparing it for further processing by other components in the pipeline."
   ]
  },
  {
   "cell_type": "markdown",
   "metadata": {},
   "source": [
    "read https://docs.llamaindex.ai/en/stable/examples/pipeline/query_pipeline/?h=add_link to learn more about `add_link` method"
   ]
  }
 ],
 "metadata": {
  "language_info": {
   "name": "python"
  }
 },
 "nbformat": 4,
 "nbformat_minor": 2
}
