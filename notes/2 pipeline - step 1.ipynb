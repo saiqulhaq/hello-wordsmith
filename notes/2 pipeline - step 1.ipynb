{
 "cells": [
  {
   "cell_type": "code",
   "execution_count": null,
   "metadata": {},
   "outputs": [],
   "source": []
  },
  {
   "cell_type": "markdown",
   "metadata": {},
   "source": [
    "In the newsletter, following are the steps to building a RAG pipeline:\n",
    "\n",
    "Step 1: Take an inbound query and deconstruct it into relevant concepts  \n",
    "Step 2: Collect similar concepts from your data store  \n",
    "Step 3: Recombine these concepts with your original query to build a more relevant, authoritative answer.  \n",
    "Let's see how is the implementation in this project"
   ]
  },
  {
   "cell_type": "markdown",
   "metadata": {},
   "source": [
    "# Step 1: Take an inbound query and deconstruct it into relevant concepts\n",
    "\n",
    "We can take a look at the `query_pipeline.py` file, specifically within the `configure_query_pipeline` function:\n",
    "\n",
    "```python\n",
    "def configure_query_pipeline(*, index: VectorStoreIndex, llm: OpenAI) -> QueryPipeline:\n",
    "    \"\"\"Configure and set up the query pipeline\"\"\"\n",
    "    text_qa_chat_template = ChatPromptTemplate.from_messages(_chat_template_messages)\n",
    "    query_pipeline = QueryPipeline()\n",
    "\n",
    "    retriever = index.as_retriever(similarity_top_k=_TOP_K_RETRIEVAL)\n",
    "    summarizer = TreeSummarize(\n",
    "        llm=llm, streaming=True, summary_template=text_qa_chat_template\n",
    "    )\n",
    "\n",
    "    query_pipeline.add_modules(\n",
    "        {\n",
    "            \"input\": InputComponent(),\n",
    "            \"retriever\": retriever,\n",
    "            \"summarizer\": summarizer,\n",
    "        }\n",
    "    )\n",
    "    query_pipeline.add_link(\"input\", \"retriever\")\n",
    "    query_pipeline.add_link(\"input\", \"summarizer\", dest_key=\"query_str\")\n",
    "    query_pipeline.add_link(\"retriever\", \"summarizer\", dest_key=\"nodes\")\n",
    "\n",
    "    return query_pipeline\n",
    "```\n",
    "\n",
    "It takes the inbound query using InputComponent library and deconstructs it using QueryPipeline library.\n",
    "Those classes are provided by llama_index.core.query_pipeline (see llama_index.core.query_pipeline note for more detail)\n",
    "\n",
    "`InputComponent`is responsible for taking the raw query input and preparing it for further processing.\n",
    "`QueryPipeline` is to chain different components to create workflows for processing queries."
   ]
  }
 ],
 "metadata": {
  "language_info": {
   "name": "python"
  }
 },
 "nbformat": 4,
 "nbformat_minor": 2
}
